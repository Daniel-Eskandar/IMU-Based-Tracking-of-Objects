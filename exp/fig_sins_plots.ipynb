{
 "cells": [
  {
   "cell_type": "code",
   "execution_count": 2,
   "id": "4a9d36d7-09ce-4794-89bb-3aea66fe7d60",
   "metadata": {},
   "outputs": [],
   "source": [
    "import os\n",
    "import numpy as np\n",
    "import pandas as pd\n",
    "from tqdm import tqdm\n",
    "from tueplots import bundles\n",
    "import matplotlib.pyplot as plt\n",
    "from tueplots.constants.color import rgb\n",
    "\n",
    "plt.rcParams.update(bundles.beamer_moml())\n",
    "plt.rcParams.update({\"figure.dpi\": 300})"
   ]
  },
  {
   "cell_type": "code",
   "execution_count": 3,
   "id": "8a1f0ef2-5410-420d-b875-c22466609ab3",
   "metadata": {},
   "outputs": [],
   "source": [
    "sins_data_folder = './../dat/sins/'\n",
    "sins_plots_folder = './../fig/sins/'\n",
    "trajectories_3d_folder = '3D Trajectories/'\n",
    "trajectories_2d_folder = '2D Trajectories/'\n",
    "separate_positions_folder = 'Separate Positions/'"
   ]
  },
  {
   "cell_type": "markdown",
   "id": "255c8600-3ecc-4612-883a-a9e173486c9c",
   "metadata": {},
   "source": [
    "# 3D Trajectories"
   ]
  },
  {
   "cell_type": "code",
   "execution_count": 4,
   "id": "d18da517-8d3a-4cbb-b5ef-b5cf6ecb1fb9",
   "metadata": {},
   "outputs": [
    {
     "name": "stderr",
     "output_type": "stream",
     "text": [
      "100%|██████████████████████████████████████████████████████████████████████████████████| 35/35 [00:05<00:00,  5.98it/s]\n"
     ]
    }
   ],
   "source": [
    "for sequence_file in tqdm(os.listdir(sins_data_folder)):\n",
    "    sequence_name = sequence_file.split('_')[0]\n",
    "    sequence_df = pd.read_csv(sins_data_folder + sequence_file, sep=' ')\n",
    "\n",
    "    time = sequence_df['time(us)'] * 1e-6\n",
    "    gt_x = sequence_df['px'].tolist()\n",
    "    gt_y = sequence_df['py'].tolist()\n",
    "    gt_z = sequence_df['pz'].tolist()\n",
    "    sins_x = sequence_df['sins_px'].tolist()\n",
    "    sins_y = sequence_df['sins_py'].tolist()\n",
    "    sins_z = sequence_df['sins_pz'].tolist()\n",
    "\n",
    "    fig = plt.figure(figsize=(5, 5))\n",
    "    ax = fig.add_subplot(111, projection='3d')\n",
    "    \n",
    "    ax.plot(gt_x, gt_y, gt_z, color=rgb.tue_blue, label='GT')\n",
    "\n",
    "    ax.set_xlim([-2.5, 2.5])\n",
    "    ax.set_ylim([-2.5, 2.5])\n",
    "    ax.set_zlim([-2.5, 2.5])\n",
    "    \n",
    "    ax.plot(sins_x, sins_y, sins_z, color=rgb.tue_red, label='SINS')\n",
    "    \n",
    "    ax.set_xlabel('x [m]')\n",
    "    ax.set_ylabel('y [m]')\n",
    "    ax.set_zlabel('z [m]')\n",
    "    ax.set_title(f'{sequence_name} - 3D Trajectory')\n",
    "    ax.legend(loc=\"upper center\", ncol=3)\n",
    "\n",
    "    fig.savefig(f'{sins_plots_folder}{trajectories_3d_folder}{sequence_name}.png')\n",
    "    \n",
    "    plt.close()"
   ]
  },
  {
   "cell_type": "markdown",
   "id": "0c17d423-54c8-4749-b380-c5b7fba007d0",
   "metadata": {},
   "source": [
    "# 2D Trajectories"
   ]
  },
  {
   "cell_type": "code",
   "execution_count": 7,
   "id": "e540ef49-2c08-4ba6-8aa8-fb18a3d09436",
   "metadata": {},
   "outputs": [
    {
     "name": "stderr",
     "output_type": "stream",
     "text": [
      "100%|██████████████████████████████████████████████████████████████████████████████████| 35/35 [00:05<00:00,  6.83it/s]\n"
     ]
    }
   ],
   "source": [
    "for sequence_file in tqdm(os.listdir(sins_data_folder)):\n",
    "    sequence_name = sequence_file.split('_')[0]\n",
    "    sequence_df = pd.read_csv(sins_data_folder + sequence_file, sep=' ')\n",
    "\n",
    "    time = sequence_df['time(us)'] * 1e-6\n",
    "    gt_x = sequence_df['px'].tolist()\n",
    "    gt_y = sequence_df['py'].tolist()\n",
    "    sins_x = sequence_df['sins_px'].tolist()\n",
    "    sins_y = sequence_df['sins_py'].tolist()\n",
    "\n",
    "    fig, ax = plt.subplots()\n",
    "\n",
    "    ax.plot(gt_x, gt_y, color=rgb.tue_blue, zorder=1, label='GT')\n",
    "\n",
    "    # ax.set_xlim([-2.5, 2.5])\n",
    "    # ax.set_ylim([-2.5, 2.5])\n",
    "\n",
    "    ax.plot(sins_x, sins_y, color=rgb.tue_red, zorder=1, label='SINS')\n",
    "    \n",
    "    ax.set_xlabel('x [m]')\n",
    "    ax.set_ylabel('y [m]')\n",
    "    \n",
    "    ax.set_title(f'{sequence_name} - 2D Trajectory', pad=20)\n",
    "    ax.legend(loc=\"upper center\", bbox_to_anchor=(0.5, 1.15), ncol=3, framealpha=1, facecolor=\"white\", frameon=True)\n",
    "\n",
    "    fig.savefig(f'{sins_plots_folder}{trajectories_2d_folder}{sequence_name}.png')\n",
    "    \n",
    "    plt.close()"
   ]
  },
  {
   "cell_type": "markdown",
   "id": "6222a4e1-a116-4ee0-bf1d-00c3591c77e1",
   "metadata": {},
   "source": [
    "# Separate Positions"
   ]
  },
  {
   "cell_type": "code",
   "execution_count": 8,
   "id": "b3df2f90-63bf-4f82-bc5e-b33e63e4dca4",
   "metadata": {},
   "outputs": [
    {
     "name": "stderr",
     "output_type": "stream",
     "text": [
      "100%|██████████████████████████████████████████████████████████████████████████████████| 35/35 [00:08<00:00,  4.27it/s]\n"
     ]
    }
   ],
   "source": [
    "for sequence_file in tqdm(os.listdir(sins_data_folder)):\n",
    "    sequence_name = sequence_file.split('_')[0]\n",
    "    sequence_df = pd.read_csv(sins_data_folder + sequence_file, sep=' ')\n",
    "\n",
    "    time = sequence_df['time(us)'] * 1e-6\n",
    "    gt_x = sequence_df['px'].tolist()\n",
    "    gt_y = sequence_df['py'].tolist()\n",
    "    gt_z = sequence_df['pz'].tolist()\n",
    "    sins_x = sequence_df['sins_px'].tolist()\n",
    "    sins_y = sequence_df['sins_py'].tolist()\n",
    "    sins_z = sequence_df['sins_pz'].tolist()\n",
    "\n",
    "    fig, axs = plt.subplots(3, 1)\n",
    "\n",
    "    axs[0].plot(time, gt_x, color=rgb.tue_blue)\n",
    "    axs[0].set_ylim([-2.5, 2.5])\n",
    "    axs[0].plot(time, sins_x, color=rgb.tue_red)\n",
    "    axs[0].set_xlim([min(time), max(time)])\n",
    "    axs[0].grid(axis=\"both\", which=\"major\")\n",
    "    axs[0].set_ylabel('x [m]')\n",
    "    \n",
    "    axs[1].plot(time, gt_y, color=rgb.tue_blue)\n",
    "    axs[1].set_ylim([-2.5, 2.5])\n",
    "    axs[1].plot(time, sins_y, color=rgb.tue_red)\n",
    "    axs[1].set_xlim([min(time), max(time)])\n",
    "    axs[1].grid(axis=\"both\", which=\"major\")\n",
    "    axs[1].set_ylabel('y [m]')\n",
    "    \n",
    "    axs[2].plot(time, gt_z, color=rgb.tue_blue)\n",
    "    axs[2].set_ylim([-2.5, 2.5])\n",
    "    axs[2].plot(time, sins_z, color=rgb.tue_red)\n",
    "    axs[2].set_xlim([min(time), max(time)])\n",
    "    axs[2].grid(axis=\"both\", which=\"major\")\n",
    "    axs[2].set_ylabel('z [m]')\n",
    "    \n",
    "    axs[0].set_title(f'{sequence_name}')\n",
    "    axs[2].set_xlabel('Time (s)')\n",
    "\n",
    "    fig.savefig(f'{sins_plots_folder}{separate_positions_folder}{sequence_name}.png')\n",
    "    \n",
    "    plt.close()"
   ]
  },
  {
   "cell_type": "code",
   "execution_count": null,
   "id": "b452da75-4a42-4f9c-8621-9c3e2945c0e6",
   "metadata": {},
   "outputs": [],
   "source": []
  }
 ],
 "metadata": {
  "kernelspec": {
   "display_name": "Python 3 (ipykernel)",
   "language": "python",
   "name": "python3"
  },
  "language_info": {
   "codemirror_mode": {
    "name": "ipython",
    "version": 3
   },
   "file_extension": ".py",
   "mimetype": "text/x-python",
   "name": "python",
   "nbconvert_exporter": "python",
   "pygments_lexer": "ipython3",
   "version": "3.10.7"
  }
 },
 "nbformat": 4,
 "nbformat_minor": 5
}

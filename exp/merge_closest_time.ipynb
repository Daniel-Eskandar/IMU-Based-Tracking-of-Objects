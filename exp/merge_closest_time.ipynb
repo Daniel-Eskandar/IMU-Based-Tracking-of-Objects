{
 "cells": [
  {
   "cell_type": "code",
   "execution_count": 117,
   "id": "80f66f59-ea9d-4167-9c15-61a351ed612b",
   "metadata": {},
   "outputs": [],
   "source": [
    "import os\n",
    "import pandas as pd\n",
    "from tqdm import tqdm"
   ]
  },
  {
   "cell_type": "code",
   "execution_count": 98,
   "id": "1f17fe13-c175-4ed2-95a6-bad175338536",
   "metadata": {},
   "outputs": [],
   "source": [
    "imu_column_names = ['time(us)', 'gx(rad/s)', 'gy(rad/s)', 'gz(rad/s)', 'ax(m/s^2)', 'ay(m/s^2)', 'az(m/s^2)', 'temperature']\n",
    "gt_column_names = ['time(us)', 'px', 'py', 'pz', 'qx', 'qy', 'qz', 'qw']\n",
    "\n",
    "raw_data_folder = './../dat/raw/'\n",
    "merged_data_folder = './../dat/merged/'\n",
    "\n",
    "imu_file = '/imu_data.txt'\n",
    "gt_file = '/mocap_data.txt'"
   ]
  },
  {
   "cell_type": "code",
   "execution_count": 119,
   "id": "a889b25c-63fd-4265-801c-904fafef8463",
   "metadata": {},
   "outputs": [
    {
     "name": "stderr",
     "output_type": "stream",
     "text": [
      "Merging IMU and GT of Raw Sequences: 100%|█████████████████████████████████████████████| 21/21 [00:09<00:00,  2.14it/s]\n"
     ]
    }
   ],
   "source": [
    "for sequence_folder in tqdm(os.listdir(raw_data_folder), desc='Merging IMU and GT of Raw Sequences'):\n",
    "    # Read IMU and GT data frames\n",
    "    imu_df = pd.read_csv(raw_data_folder + sequence_folder + imu_file, sep=' ', header=None, names=imu_column_names, skiprows=1)\n",
    "    gt_df = pd.read_csv(raw_data_folder + sequence_folder + gt_file, sep=' ', header=None, names=gt_column_names, skiprows=1)\n",
    "\n",
    "    # Merge with nearest neighbor on time(us)\n",
    "    merged_df = pd.merge_asof(gt_df, imu_df, on='time(us)', direction='nearest')\n",
    "\n",
    "    # Reorder columns\n",
    "    column_order = ['time(us)'] + imu_df.columns.tolist()[1:] + gt_df.columns.tolist()[1:]\n",
    "    merged_df = merged_df[column_order]\n",
    "\n",
    "    # Save merged data frames\n",
    "    sequence_name = sequence_folder.split('_')[0]\n",
    "    merged_df.to_csv(merged_data_folder + sequence_name + '_merged.txt', sep=' ', index=False, float_format='%.18e')"
   ]
  },
  {
   "cell_type": "code",
   "execution_count": null,
   "id": "c5fda363-5348-4f1a-a2ad-a7ad40c4651a",
   "metadata": {},
   "outputs": [],
   "source": []
  }
 ],
 "metadata": {
  "kernelspec": {
   "display_name": "Python 3 (ipykernel)",
   "language": "python",
   "name": "python3"
  },
  "language_info": {
   "codemirror_mode": {
    "name": "ipython",
    "version": 3
   },
   "file_extension": ".py",
   "mimetype": "text/x-python",
   "name": "python",
   "nbconvert_exporter": "python",
   "pygments_lexer": "ipython3",
   "version": "3.10.7"
  }
 },
 "nbformat": 4,
 "nbformat_minor": 5
}

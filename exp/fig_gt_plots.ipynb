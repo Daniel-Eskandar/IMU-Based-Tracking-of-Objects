{
 "cells": [
  {
   "cell_type": "code",
   "execution_count": 1,
   "id": "fe1b5c1e-6252-4694-95db-865e34df7993",
   "metadata": {},
   "outputs": [],
   "source": [
    "import os\n",
    "import numpy as np\n",
    "import pandas as pd\n",
    "from tqdm import tqdm\n",
    "from tueplots import bundles\n",
    "import matplotlib.pyplot as plt\n",
    "from tueplots.constants.color import rgb\n",
    "\n",
    "plt.rcParams.update(bundles.beamer_moml())\n",
    "plt.rcParams.update({\"figure.dpi\": 300})"
   ]
  },
  {
   "cell_type": "code",
   "execution_count": 2,
   "id": "7142d11b-76a1-46c5-a4f9-2881bef4997e",
   "metadata": {},
   "outputs": [],
   "source": [
    "merged_data_folder = './../dat/merged/'\n",
    "gt_plots_folder = './../fig/gt_plots/'\n",
    "trajectories_3d_folder = '3D Trajectories/'\n",
    "trajectories_2d_folder = '2D Trajectories/'\n",
    "joint_positions_folder = 'Joint Positions/'\n",
    "separate_positions_folder = 'Separate Positions/'"
   ]
  },
  {
   "cell_type": "code",
   "execution_count": 3,
   "id": "ed51b17a-e871-42fa-b4d4-f82b9c59cb2a",
   "metadata": {},
   "outputs": [],
   "source": [
    "def create_3D_trajectory(time, x, y, z, sequence_name):\n",
    "    fig = plt.figure(figsize=(5, 5))\n",
    "    ax = fig.add_subplot(111, projection='3d')\n",
    "    \n",
    "    ax.plot(x, y, z, color=rgb.tue_blue, label='Trajectory')\n",
    "    ax.plot(x[0], y[0], z[0], color=rgb.tue_green, marker='X', label='Start')\n",
    "    ax.plot(x[-1], y[-1], z[-1], color=rgb.tue_red, marker='X', label='End')\n",
    "    \n",
    "    ax.set_xlabel('p_x')\n",
    "    ax.set_ylabel('p_y')\n",
    "    ax.set_zlabel('p_z')\n",
    "    ax.set_title(f'{sequence_name} - 3D Trajectory')\n",
    "    ax.legend(loc=\"upper center\", ncol=3)\n",
    "\n",
    "    fig.savefig(f'{gt_plots_folder}{trajectories_3d_folder}{sequence_name}.png')\n",
    "    \n",
    "    plt.close()\n",
    "\n",
    "def create_2D_trajectory(time, x, y, sequence_name):\n",
    "    fig, ax = plt.subplots()\n",
    "\n",
    "    ax.plot(x, y, color=rgb.tue_blue, zorder=1, label='Trajectory')\n",
    "    ax.scatter(x[0], y[0], color=rgb.tue_green, marker='X', zorder=2, label='Start')\n",
    "    ax.scatter(x[-1], y[-1], color=rgb.tue_red, marker='X', zorder=2, label='End')\n",
    "    \n",
    "    ax.set_xlabel('px')\n",
    "    ax.set_ylabel('py')\n",
    "    \n",
    "    ax.set_title(f'{sequence_name} - 2D Trajectory', pad=20)\n",
    "    ax.legend(loc=\"upper center\", bbox_to_anchor=(0.5, 1.15), ncol=3, framealpha=1, facecolor=\"white\", frameon=True)\n",
    "\n",
    "    fig.savefig(f'{gt_plots_folder}{trajectories_2d_folder}{sequence_name}.png')\n",
    "    \n",
    "    plt.close()\n",
    "\n",
    "def create_joint_position_plots(time, x, y, z, sequence_name):\n",
    "    fig, ax = plt.subplots()\n",
    "\n",
    "    ax.plot(time, x, color=rgb.tue_red, label='px')\n",
    "    ax.plot(time, y, color=rgb.tue_green, label='py')\n",
    "    ax.plot(time, z, color=rgb.tue_blue, label='pz')\n",
    "    \n",
    "    ax.set_xlim([min(time), max(time)])\n",
    "    ax.grid(axis=\"both\", which=\"major\")\n",
    "    \n",
    "    ax.set_xlabel('Time (s)')\n",
    "    ax.set_ylabel('Position')\n",
    "    ax.set_title(f'{sequence_name}', pad=20)\n",
    "    ax.legend(loc=\"upper center\", bbox_to_anchor=(0.5, 1.15), ncol=3, framealpha=1, facecolor=\"white\", frameon=True)\n",
    "\n",
    "    fig.savefig(f'{gt_plots_folder}{joint_positions_folder}{sequence_name}.png')\n",
    "    \n",
    "    plt.close()\n",
    "\n",
    "def create_separate_position_plots(time, x, y, z, sequence_name):\n",
    "    fig, axs = plt.subplots(3, 1)\n",
    "\n",
    "    axs[0].plot(time, x, color=rgb.tue_red)\n",
    "    axs[0].set_xlim([min(time), max(time)])\n",
    "    axs[0].grid(axis=\"both\", which=\"major\")\n",
    "    axs[0].set_ylabel('px')\n",
    "    \n",
    "    axs[1].plot(time, y, color=rgb.tue_green)\n",
    "    axs[1].set_xlim([min(time), max(time)])\n",
    "    axs[1].grid(axis=\"both\", which=\"major\")\n",
    "    axs[1].set_ylabel('py')\n",
    "    \n",
    "    axs[2].plot(time, z, color=rgb.tue_blue)\n",
    "    axs[2].set_xlim([min(time), max(time)])\n",
    "    axs[2].grid(axis=\"both\", which=\"major\")\n",
    "    axs[2].set_ylabel('pz')\n",
    "    \n",
    "    axs[0].set_title(f'{sequence_name}')\n",
    "    axs[2].set_xlabel('Time (s)')\n",
    "\n",
    "    fig.savefig(f'{gt_plots_folder}{separate_positions_folder}{sequence_name}.png')\n",
    "    \n",
    "    plt.close()"
   ]
  },
  {
   "cell_type": "code",
   "execution_count": 4,
   "id": "5fec1c64-96ce-4959-b770-40b78f7e07ca",
   "metadata": {},
   "outputs": [
    {
     "name": "stderr",
     "output_type": "stream",
     "text": [
      "Create and Saving GT Plots for each Sequence: 100%|████████████████████████████████████| 21/21 [00:13<00:00,  1.56it/s]\n"
     ]
    }
   ],
   "source": [
    "for sequence_file in tqdm(os.listdir(merged_data_folder), desc='Create and Saving GT Plots for each Sequence'):\n",
    "    sequence_name = sequence_file.split('_')[0]\n",
    "    sequence_df = pd.read_csv(merged_data_folder + sequence_file, sep=' ')\n",
    "\n",
    "    time = sequence_df['time(us)'] * 10e-6\n",
    "    x = sequence_df['px'].tolist()\n",
    "    y = sequence_df['py'].tolist()\n",
    "    z = sequence_df['pz'].tolist()\n",
    "    \n",
    "    create_3D_trajectory(time, x, y, z, sequence_name)\n",
    "    create_2D_trajectory(time, x, y, sequence_name)\n",
    "    create_joint_position_plots(time, x, y, z, sequence_name)\n",
    "    create_separate_position_plots(time, x, y, z, sequence_name)"
   ]
  },
  {
   "cell_type": "code",
   "execution_count": null,
   "id": "e0a375f7-390d-476e-964f-29226e949ebe",
   "metadata": {},
   "outputs": [],
   "source": []
  }
 ],
 "metadata": {
  "kernelspec": {
   "display_name": "Python 3 (ipykernel)",
   "language": "python",
   "name": "python3"
  },
  "language_info": {
   "codemirror_mode": {
    "name": "ipython",
    "version": 3
   },
   "file_extension": ".py",
   "mimetype": "text/x-python",
   "name": "python",
   "nbconvert_exporter": "python",
   "pygments_lexer": "ipython3",
   "version": "3.10.7"
  }
 },
 "nbformat": 4,
 "nbformat_minor": 5
}

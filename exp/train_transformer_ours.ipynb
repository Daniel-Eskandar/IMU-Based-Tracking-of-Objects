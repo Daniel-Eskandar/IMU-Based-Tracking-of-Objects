{
 "cells": [
  {
   "cell_type": "code",
   "execution_count": 1,
   "metadata": {},
   "outputs": [
    {
     "name": "stderr",
     "output_type": "stream",
     "text": [
      "C:\\Users\\drodel\\AppData\\Local\\Temp\\ipykernel_15340\\1689093467.py:8: DeprecationWarning: \n",
      "Pyarrow will become a required dependency of pandas in the next major release of pandas (pandas 3.0),\n",
      "(to allow more performant data types, such as the Arrow string type, and better interoperability with other libraries)\n",
      "but was not found to be installed on your system.\n",
      "If this would cause problems for you,\n",
      "please provide us feedback at https://github.com/pandas-dev/pandas/issues/54466\n",
      "        \n",
      "  import pandas as pd\n"
     ]
    }
   ],
   "source": [
    "import torch\n",
    "from torch import nn\n",
    "import torch.optim as optim\n",
    "from torch.nn import TransformerEncoder, TransformerEncoderLayer\n",
    "import numpy as np\n",
    "import math\n",
    "import os\n",
    "import pandas as pd\n",
    "from torch.utils.data import TensorDataset, DataLoader\n",
    "from tqdm import tqdm"
   ]
  },
  {
   "cell_type": "code",
   "execution_count": 2,
   "metadata": {},
   "outputs": [],
   "source": [
    "def load_dataset(data_path):\n",
    "    source_columns = [\"gx(rad/s)\", \"gy(rad/s)\", \"gz(rad/s)\", \"ax(m/s^2)\", \"ay(m/s^2)\", \"az(m/s^2)\"]\n",
    "    target_columns = [\"px\", \"py\", \"pz\"]\n",
    "    \n",
    "    source_sequences = []\n",
    "    target_sequences = []\n",
    "    \n",
    "    for filename in os.listdir(data_path):\n",
    "        if filename.endswith(\".txt\"):\n",
    "            file_path = os.path.join(data_path, filename)\n",
    "        \n",
    "            # Read the file using pandas\n",
    "            df = pd.read_csv(file_path, sep=\" \")\n",
    "            \n",
    "            # Extract required columns\n",
    "            source_data = df[source_columns]\n",
    "            target_data = df[target_columns]\n",
    "        \n",
    "            # Create source sequences of size (100, 6)\n",
    "            for i in range(0, len(source_data) - 50, 50):\n",
    "                source_seq = source_data.iloc[i:i+100, :].values\n",
    "                source_sequences.append(source_seq)\n",
    "        \n",
    "            # Create target sequences of size (100, 3)\n",
    "            for i in range(0, len(target_data) - 50, 50):\n",
    "                target_seq = target_data.iloc[i:i+100, :].values\n",
    "                target_sequences.append(target_seq)\n",
    "        \n",
    "            # Replace the last source sequence with the last 100 entries of the file\n",
    "            last_source_seq = source_data.iloc[-100:, :].values\n",
    "            source_sequences[-1] = last_source_seq\n",
    "    \n",
    "            # Replace the last target sequence with the last 100 entries of the file\n",
    "            last_target_seq = target_data.iloc[-100:, :].values\n",
    "            target_sequences[-1] = last_target_seq\n",
    "    \n",
    "    # Subtract the first row from all rows in each target sequence\n",
    "    target_sequences = [seq - seq[0] for seq in target_sequences]\n",
    "    \n",
    "    # Convert source sequences to torch tensor\n",
    "    source_tensors = torch.stack([torch.from_numpy(seq) for seq in source_sequences]).to(torch.float32)\n",
    "    \n",
    "    # Convert target sequences to torch tensor\n",
    "    target_tensors = torch.stack([torch.from_numpy(seq) for seq in target_sequences]).to(torch.float32)\n",
    "    \n",
    "    # Create TensorDatasets\n",
    "    dataset = TensorDataset(source_tensors, target_tensors)\n",
    "    # target_dataset = TensorDataset(target_tensors)\n",
    "\n",
    "    return dataset"
   ]
  },
  {
   "cell_type": "code",
   "execution_count": 3,
   "metadata": {},
   "outputs": [],
   "source": [
    "train_data_path = './../dat/merged/train'\n",
    "train_dataset = load_dataset(train_data_path)\n",
    "train_loader = DataLoader(train_dataset, batch_size=16, shuffle=True)\n",
    "\n",
    "val_data_path = './../dat/merged/val'\n",
    "val_dataset = load_dataset(val_data_path)\n",
    "val_loader = DataLoader(val_dataset, batch_size=16, shuffle=True)\n",
    "\n",
    "test_data_path = './../dat/merged/test'\n",
    "test_dataset = load_dataset(test_data_path)"
   ]
  },
  {
   "cell_type": "code",
   "execution_count": 4,
   "metadata": {},
   "outputs": [],
   "source": [
    "class PositionalEncoding(nn.Module):\n",
    "    def __init__(self, dim_model, dropout_p, max_len):\n",
    "        super().__init__()\n",
    "        # Modified version from: https://pytorch.org/tutorials/beginner/transformer_tutorial.html\n",
    "        # max_len determines how far the position can have an effect on a token (window)\n",
    "        \n",
    "        # Info\n",
    "        self.dropout = nn.Dropout(dropout_p)\n",
    "        \n",
    "        # Encoding - From formula\n",
    "        pos_encoding = torch.zeros(max_len, dim_model)\n",
    "        positions_list = torch.arange(0, max_len, dtype=torch.float).view(-1, 1) # 0, 1, 2, 3, 4, 5\n",
    "        division_term = torch.exp(torch.arange(0, dim_model, 2).float() * (-math.log(10000.0)) / dim_model) # 1000^(2i/dim_model)\n",
    "        \n",
    "        # PE(pos, 2i) = sin(pos/1000^(2i/dim_model))\n",
    "        pos_encoding[:, 0::2] = torch.sin(positions_list * division_term)\n",
    "        \n",
    "        # PE(pos, 2i + 1) = cos(pos/1000^(2i/dim_model))\n",
    "        pos_encoding[:, 1::2] = torch.cos(positions_list * division_term)\n",
    "        \n",
    "        # Saving buffer (same as parameter without gradients needed)\n",
    "        pos_encoding = pos_encoding.unsqueeze(0).transpose(0, 1)\n",
    "        self.register_buffer(\"pos_encoding\",pos_encoding)\n",
    "        \n",
    "    def forward(self, token_embedding: torch.tensor) -> torch.tensor:\n",
    "        # Residual connection + pos encoding\n",
    "        return self.dropout(token_embedding + self.pos_encoding[:token_embedding.size(0), :])"
   ]
  },
  {
   "cell_type": "code",
   "execution_count": 12,
   "metadata": {},
   "outputs": [],
   "source": [
    "class Transformer(nn.Module):\n",
    "    \"\"\"\n",
    "    Model from \"A detailed guide to Pytorch's nn.Transformer() module.\", by\n",
    "    Daniel Melchor: https://medium.com/@danielmelchor/a-detailed-guide-to-pytorchs-nn-transformer-module-c80afbc9ffb1\n",
    "    \"\"\"\n",
    "    # Constructor\n",
    "    def __init__(\n",
    "        self,\n",
    "        input_dim,\n",
    "        output_dim,\n",
    "        dim_model,\n",
    "        num_heads,\n",
    "        num_encoder_layers,\n",
    "        num_decoder_layers,\n",
    "        dropout_p,\n",
    "    ):\n",
    "        super().__init__()\n",
    "\n",
    "        # INFO\n",
    "        self.model_type = \"Transformer\"\n",
    "        self.dim_model = dim_model\n",
    "\n",
    "        # LAYERS\n",
    "        self.positional_encoder = PositionalEncoding(\n",
    "            dim_model=dim_model, dropout_p=dropout_p, max_len=5000\n",
    "        )\n",
    "        self.embedding_replacement_input = nn.Linear(input_dim, dim_model)\n",
    "        self.embedding_replacement_output = nn.Linear(output_dim, dim_model)\n",
    "        self.transformer = nn.Transformer(\n",
    "            d_model=dim_model,\n",
    "            nhead=num_heads,\n",
    "            num_encoder_layers=num_encoder_layers,\n",
    "            num_decoder_layers=num_decoder_layers,\n",
    "            dropout=dropout_p,\n",
    "        )\n",
    "        self.out = nn.Linear(dim_model, output_dim)\n",
    "        \n",
    "    def forward(self, src, tgt, tgt_mask=None, src_pad_mask=None, tgt_pad_mask=None):\n",
    "        # Src size must be (batch_size, src sequence length, input_dim)\n",
    "        # Tgt size must be (batch_size, tgt sequence length, output_dim)\n",
    "\n",
    "        # Embedding + positional encoding - Out size = (batch_size, sequence length, dim_model)\n",
    "        # print(src.shape, tgt.shape)\n",
    "        src = self.embedding_replacement_input(src) * math.sqrt(self.dim_model)\n",
    "        tgt = self.embedding_replacement_output(tgt) * math.sqrt(self.dim_model)\n",
    "        # print(src.shape, tgt.shape)\n",
    "        src = self.positional_encoder(src)\n",
    "        # tgt = self.positional_encoder(tgt)\n",
    "        # print(src.shape, tgt.shape)\n",
    "        \n",
    "        # We could use the parameter batch_first=True, but our KDL version doesn't support it yet, so we permute\n",
    "        # to obtain size (sequence length, batch_size, dim_model),\n",
    "        src = src.permute(1,0,2)\n",
    "        tgt = tgt.permute(1,0,2)\n",
    "\n",
    "        # Transformer blocks - Out size = (sequence length, batch_size, num_tokens)\n",
    "        transformer_out = self.transformer(src, tgt, tgt_mask=tgt_mask, src_key_padding_mask=src_pad_mask, tgt_key_padding_mask=tgt_pad_mask)\n",
    "        out = self.out(transformer_out)\n",
    "        \n",
    "        return out\n",
    "\n",
    "    def get_tgt_mask(self, size) -> torch.tensor:\n",
    "        # Generates a squeare matrix where the each row allows one word more to be seen\n",
    "        mask = torch.tril(torch.ones(size, size) == 1) # Lower triangular matrix\n",
    "        mask = mask.float()\n",
    "        mask = mask.masked_fill(mask == 0, float('-inf')) # Convert zeros to -inf\n",
    "        mask = mask.masked_fill(mask == 1, float(0.0)) # Convert ones to 0\n",
    "        \n",
    "        # EX for size=5:\n",
    "        # [[0., -inf, -inf, -inf, -inf],\n",
    "        #  [0.,   0., -inf, -inf, -inf],\n",
    "        #  [0.,   0.,   0., -inf, -inf],\n",
    "        #  [0.,   0.,   0.,   0., -inf],\n",
    "        #  [0.,   0.,   0.,   0.,   0.]]\n",
    "        \n",
    "        return mask"
   ]
  },
  {
   "cell_type": "code",
   "execution_count": 6,
   "metadata": {},
   "outputs": [],
   "source": [
    "# example_data_batch = torch.ones((16,10,6))\n",
    "# example_target_batch = 0.5*torch.ones((16,9,3))\n",
    "# example_target_batch = torch.cat([torch.zeros((16,1,3)), example_target_batch], dim=1)"
   ]
  },
  {
   "cell_type": "code",
   "execution_count": 7,
   "metadata": {},
   "outputs": [],
   "source": [
    "# data_loader = []\n",
    "# for j in range(10):\n",
    "#     example_data_batch = torch.cat([torch.arange(6).unsqueeze(0)+i for i in range(10)]).unsqueeze(0)\n",
    "#     example_target_batch = torch.cat([torch.arange(3)])\n",
    "# example_data_batch.shape"
   ]
  },
  {
   "cell_type": "code",
   "execution_count": 15,
   "metadata": {},
   "outputs": [
    {
     "name": "stderr",
     "output_type": "stream",
     "text": [
      "c:\\Users\\drodel\\Documents\\Studium\\Tuebingen\\Semester_1__WS_2023\\Virtual Humans\\Exercises\\Project_VH\\IMU-Based-Tracking-of-Objects\\venv\\lib\\site-packages\\torch\\nn\\modules\\transformer.py:282: UserWarning: enable_nested_tensor is True, but self.use_nested_tensor is False because encoder_layer.self_attn.batch_first was not True(use batch_first for better inference performance)\n",
      "  warnings.warn(f\"enable_nested_tensor is True, but self.use_nested_tensor is False because {why_not_sparsity_fast_path}\")\n"
     ]
    }
   ],
   "source": [
    "device = torch.device('cpu')\n",
    "model = Transformer(\n",
    "    input_dim=6, output_dim=3, dim_model=8, num_heads=2, num_encoder_layers=3, num_decoder_layers=3, dropout_p=0.1\n",
    ").to(device)\n",
    "opt = torch.optim.SGD(model.parameters(), lr=0.0001)\n",
    "loss_fn = nn.MSELoss()"
   ]
  },
  {
   "cell_type": "code",
   "execution_count": 16,
   "metadata": {},
   "outputs": [],
   "source": [
    "def train_loop(model, opt, loss_fn, dataloader):\n",
    "    \"\"\"\n",
    "    Method from \"A detailed guide to Pytorch's nn.Transformer() module.\", by\n",
    "    Daniel Melchor: https://medium.com/@danielmelchor/a-detailed-guide-to-pytorchs-nn-transformer-module-c80afbc9ffb1\n",
    "    \"\"\"\n",
    "\n",
    "    model.train()\n",
    "    total_loss = 0\n",
    "\n",
    "    for batch in dataloader:\n",
    "        X, y = batch[0], batch[1]\n",
    "        # X, y = torch.tensor(X).to(device), torch.tensor(y).to(device)\n",
    "\n",
    "        # # Now we shift the tgt by one so with the <SOS> we predict the token at pos 1\n",
    "        y_input = y[:,:-1]\n",
    "        y_expected = y[:,1:]\n",
    "        # y_input = y # torch.zeros(y.shape)\n",
    "        # y_expected = y\n",
    "        \n",
    "        # Get mask to mask out the next words\n",
    "        sequence_length = y_input.size(1)\n",
    "        tgt_mask = model.get_tgt_mask(sequence_length).to(device)\n",
    "\n",
    "        # Standard training except we pass in y_input and tgt_mask\n",
    "        pred = model(X, y_input, tgt_mask)\n",
    "        # print(pred)\n",
    "\n",
    "        # Permute pred to have batch size first again\n",
    "        pred = pred.permute(1,0,2)     \n",
    "        loss = loss_fn(pred, y_expected)\n",
    "        # print(loss)\n",
    "\n",
    "        opt.zero_grad()\n",
    "        loss.backward()\n",
    "        opt.step()\n",
    "    \n",
    "        total_loss += loss.detach().item()\n",
    "        \n",
    "    return total_loss / len(dataloader)"
   ]
  },
  {
   "cell_type": "code",
   "execution_count": 17,
   "metadata": {},
   "outputs": [],
   "source": [
    "def validation_loop(model, loss_fn, dataloader):\n",
    "    \"\"\"\n",
    "    Method from \"A detailed guide to Pytorch's nn.Transformer() module.\", by\n",
    "    Daniel Melchor: https://medium.com/@danielmelchor/a-detailed-guide-to-pytorchs-nn-transformer-module-c80afbc9ffb1\n",
    "    \"\"\"\n",
    "    \n",
    "    model.eval()\n",
    "    total_loss = 0\n",
    "    \n",
    "    with torch.no_grad():\n",
    "        for batch in dataloader:\n",
    "            X, y = batch[0], batch[1]\n",
    "            # X, y = torch.tensor(X, dtype=torch.long, device=device), torch.tensor(y, dtype=torch.long, device=device)\n",
    "\n",
    "            # Now we shift the tgt by one so with the <SOS> we predict the token at pos 1\n",
    "            y_input = y[:,:-1]\n",
    "            y_expected = y[:,1:]\n",
    "            # y_input = torch.zeros(y.shape)\n",
    "            # y_expected = y\n",
    "            \n",
    "            # Get mask to mask out the next words\n",
    "            sequence_length = y_input.size(1)\n",
    "            tgt_mask = model.get_tgt_mask(sequence_length).to(device)\n",
    "\n",
    "            # Standard training except we pass in y_input and src_mask\n",
    "            pred = model(X, y_input, tgt_mask)\n",
    "\n",
    "            # Permute pred to have batch size first again\n",
    "            pred = pred.permute(1,0,2)      \n",
    "            loss = loss_fn(pred, y_expected)\n",
    "            total_loss += loss.detach().item()\n",
    "        \n",
    "    return total_loss / len(dataloader)"
   ]
  },
  {
   "cell_type": "code",
   "execution_count": 18,
   "metadata": {},
   "outputs": [
    {
     "name": "stdout",
     "output_type": "stream",
     "text": [
      "Training and validating model\n",
      "------------------------- Epoch 1 -------------------------\n"
     ]
    },
    {
     "name": "stdout",
     "output_type": "stream",
     "text": [
      "Training loss: 0.1629\n",
      "Validation loss: 0.1182\n",
      "\n",
      "------------------------- Epoch 2 -------------------------\n",
      "Training loss: 0.1269\n",
      "Validation loss: 0.0928\n",
      "\n",
      "------------------------- Epoch 3 -------------------------\n",
      "Training loss: 0.1064\n",
      "Validation loss: 0.0771\n",
      "\n",
      "------------------------- Epoch 4 -------------------------\n",
      "Training loss: 0.0941\n",
      "Validation loss: 0.0689\n",
      "\n",
      "------------------------- Epoch 5 -------------------------\n",
      "Training loss: 0.0862\n",
      "Validation loss: 0.0618\n",
      "\n",
      "------------------------- Epoch 6 -------------------------\n",
      "Training loss: 0.0806\n",
      "Validation loss: 0.0572\n",
      "\n",
      "------------------------- Epoch 7 -------------------------\n",
      "Training loss: 0.0778\n",
      "Validation loss: 0.0540\n",
      "\n",
      "------------------------- Epoch 8 -------------------------\n",
      "Training loss: 0.0742\n",
      "Validation loss: 0.0516\n",
      "\n",
      "------------------------- Epoch 9 -------------------------\n",
      "Training loss: 0.0724\n",
      "Validation loss: 0.0502\n",
      "\n",
      "------------------------- Epoch 10 -------------------------\n",
      "Training loss: 0.0709\n",
      "Validation loss: 0.0481\n",
      "\n"
     ]
    }
   ],
   "source": [
    "def fit(model, opt, loss_fn, train_dataloader, val_dataloader, epochs):\n",
    "    \"\"\"\n",
    "    Method from \"A detailed guide to Pytorch's nn.Transformer() module.\", by\n",
    "    Daniel Melchor: https://medium.com/@danielmelchor/a-detailed-guide-to-pytorchs-nn-transformer-module-c80afbc9ffb1\n",
    "    \"\"\"\n",
    "    \n",
    "    # Used for plotting later on\n",
    "    train_loss_list, validation_loss_list = [], []\n",
    "    \n",
    "    print(\"Training and validating model\")\n",
    "    for epoch in range(epochs):\n",
    "        print(\"-\"*25, f\"Epoch {epoch + 1}\",\"-\"*25)\n",
    "        \n",
    "        train_loss = train_loop(model, opt, loss_fn, train_dataloader)\n",
    "        train_loss_list += [train_loss]\n",
    "        \n",
    "        validation_loss = validation_loop(model, loss_fn, val_dataloader)\n",
    "        validation_loss_list += [validation_loss]\n",
    "        \n",
    "        print(f\"Training loss: {train_loss:.4f}\")\n",
    "        print(f\"Validation loss: {validation_loss:.4f}\")\n",
    "        print()\n",
    "        \n",
    "    return train_loss_list, validation_loss_list\n",
    "    \n",
    "train_loss_list, validation_loss_list = fit(model, opt, loss_fn, train_loader, val_loader, 10)\n"
   ]
  },
  {
   "cell_type": "code",
   "execution_count": 45,
   "metadata": {},
   "outputs": [],
   "source": [
    "def predict(model, input_sequence, max_length=10, SOS_token=2, EOS_token=3):\n",
    "    \"\"\"\n",
    "    Method from \"A detailed guide to Pytorch's nn.Transformer() module.\", by\n",
    "    Daniel Melchor: https://medium.com/@danielmelchor/a-detailed-guide-to-pytorchs-nn-transformer-module-c80afbc9ffb1\n",
    "    \"\"\"\n",
    "    model.eval()\n",
    "    \n",
    "    # y_input = torch.tensor([[SOS_token]], dtype=torch.long, device=device)\n",
    "    y_input = torch.zeros((1,1,3))\n",
    "\n",
    "    num_tokens = len(input_sequence[0])\n",
    "\n",
    "    for _ in range(max_length):\n",
    "        # Get source mask\n",
    "        # tgt_mask = model.get_tgt_mask(y_input.size(1)).to(device)\n",
    "        \n",
    "        pred = model(input_sequence, y_input)\n",
    "        \n",
    "        # next_item = pred.topk(1)[1].view(-1)[-1].item() # num with highest probability\n",
    "        # next_item = torch.tensor([[next_item]], device=device)\n",
    "        next_item = pred[0,:,:].unsqueeze(0)\n",
    "        \n",
    "        # print(y_input.shape, next_item.shape)\n",
    "\n",
    "        # Concatenate previous input with predicted best word\n",
    "        y_input = torch.cat((y_input, next_item), dim=1)\n",
    "\n",
    "        # # Stop if model predicts end of sentence\n",
    "        # if next_item.view(-1).item() == EOS_token:\n",
    "        #     break\n",
    "\n",
    "    return y_input  # .view(-1).tolist()"
   ]
  },
  {
   "cell_type": "code",
   "execution_count": 44,
   "metadata": {},
   "outputs": [],
   "source": [
    "model = torch.load(r\"..\\src\\final_model.pt\", map_location=torch.device('cpu'))"
   ]
  },
  {
   "cell_type": "code",
   "execution_count": 46,
   "metadata": {},
   "outputs": [],
   "source": [
    "idx = 1\n",
    "y_input = torch.zeros((1,1,3))\n",
    "test_input = val_dataset[idx][0].unsqueeze(0)\n",
    "test_output = val_dataset[idx][1].unsqueeze(0)\n",
    "\n",
    "prediction = predict(model, test_input, max_length=10)"
   ]
  },
  {
   "cell_type": "code",
   "execution_count": 48,
   "metadata": {},
   "outputs": [
    {
     "data": {
      "text/plain": [
       "torch.Size([1, 100, 3])"
      ]
     },
     "execution_count": 48,
     "metadata": {},
     "output_type": "execute_result"
    }
   ],
   "source": [
    "test_output.shape"
   ]
  },
  {
   "cell_type": "code",
   "execution_count": 49,
   "metadata": {},
   "outputs": [
    {
     "data": {
      "text/plain": [
       "tensor([[ 0.0000e+00,  0.0000e+00,  0.0000e+00],\n",
       "        [ 6.8028e-03, -2.9057e-04, -1.4925e-04],\n",
       "        [ 1.3587e-02, -5.8711e-04, -1.3494e-04],\n",
       "        [ 2.0351e-02, -9.2334e-04,  6.8665e-05],\n",
       "        [ 2.7099e-02, -1.2709e-03,  4.4799e-04],\n",
       "        [ 3.3840e-02, -1.6357e-03,  1.0014e-03],\n",
       "        [ 4.0590e-02, -2.0017e-03,  1.7178e-03],\n",
       "        [ 4.7305e-02, -2.3494e-03,  2.6052e-03],\n",
       "        [ 5.4007e-02, -2.7018e-03,  3.6330e-03],\n",
       "        [ 6.0736e-02, -3.0637e-03,  4.7405e-03]])"
      ]
     },
     "execution_count": 49,
     "metadata": {},
     "output_type": "execute_result"
    }
   ],
   "source": [
    "test_output[0][:10]"
   ]
  },
  {
   "cell_type": "code",
   "execution_count": 50,
   "metadata": {},
   "outputs": [
    {
     "data": {
      "text/plain": [
       "tensor([[[ 0.0000,  0.0000,  0.0000],\n",
       "         [ 0.0808, -0.0965,  0.0015],\n",
       "         [ 0.0808, -0.0965,  0.0015],\n",
       "         [ 0.0808, -0.0965,  0.0015],\n",
       "         [ 0.0808, -0.0965,  0.0015],\n",
       "         [ 0.0808, -0.0965,  0.0015],\n",
       "         [ 0.0808, -0.0965,  0.0015],\n",
       "         [ 0.0808, -0.0965,  0.0015],\n",
       "         [ 0.0808, -0.0965,  0.0015],\n",
       "         [ 0.0808, -0.0965,  0.0015],\n",
       "         [ 0.0808, -0.0965,  0.0015]]], grad_fn=<CatBackward0>)"
      ]
     },
     "execution_count": 50,
     "metadata": {},
     "output_type": "execute_result"
    }
   ],
   "source": [
    "prediction"
   ]
  },
  {
   "cell_type": "code",
   "execution_count": 80,
   "metadata": {},
   "outputs": [
    {
     "name": "stderr",
     "output_type": "stream",
     "text": [
      "c:\\Users\\drodel\\Documents\\Studium\\Tuebingen\\Semester_1__WS_2023\\Virtual Humans\\Exercises\\Project_VH\\IMU-Based-Tracking-of-Objects\\venv\\lib\\site-packages\\torch\\nn\\modules\\transformer.py:282: UserWarning: enable_nested_tensor is True, but self.use_nested_tensor is False because encoder_layer.self_attn.batch_first was not True(use batch_first for better inference performance)\n",
      "  warnings.warn(f\"enable_nested_tensor is True, but self.use_nested_tensor is False because {why_not_sparsity_fast_path}\")\n"
     ]
    }
   ],
   "source": [
    "encoder_layer = nn.TransformerEncoderLayer(d_model=512, nhead=8)\n",
    "transformer_encoder = nn.TransformerEncoder(encoder_layer, num_layers=6)\n",
    "src = torch.rand(10, 32, 512)\n",
    "out = transformer_encoder(src)"
   ]
  },
  {
   "cell_type": "code",
   "execution_count": 42,
   "metadata": {},
   "outputs": [],
   "source": [
    "import pickle\n",
    "with open(r\"..\\src\\val_loss_list.pkl\", \"rb\") as f:\n",
    "    val_loss_list = pickle.load(f)\n",
    "with open(r\"..\\src\\train_loss_list.pkl\", \"rb\") as f:\n",
    "    train_loss_list = pickle.load(f)"
   ]
  },
  {
   "cell_type": "code",
   "execution_count": 43,
   "metadata": {},
   "outputs": [
    {
     "data": {
      "text/plain": [
       "[<matplotlib.lines.Line2D at 0x2d3cd923e50>]"
      ]
     },
     "execution_count": 43,
     "metadata": {},
     "output_type": "execute_result"
    },
    {
     "data": {
      "image/png": "[encoded data removed]",
      "text/plain": [
       "<Figure size 640x480 with 1 Axes>"
      ]
     },
     "metadata": {},
     "output_type": "display_data"
    }
   ],
   "source": [
    "import matplotlib.pyplot as plt \n",
    "plt.plot(train_loss_list)\n",
    "plt.plot(val_loss_list)"
   ]
  },
  {
   "cell_type": "code",
   "execution_count": null,
   "metadata": {},
   "outputs": [],
   "source": []
  }
 ],
 "metadata": {
  "kernelspec": {
   "display_name": "venv",
   "language": "python",
   "name": "python3"
  },
  "language_info": {
   "codemirror_mode": {
    "name": "ipython",
    "version": 3
   },
   "file_extension": ".py",
   "mimetype": "text/x-python",
   "name": "python",
   "nbconvert_exporter": "python",
   "pygments_lexer": "ipython3",
   "version": "3.10.11"
  }
 },
 "nbformat": 4,
 "nbformat_minor": 2
}
